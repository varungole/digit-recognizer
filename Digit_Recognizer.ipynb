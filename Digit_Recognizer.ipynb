{
  "cells": [
    {
      "cell_type": "markdown",
      "metadata": {
        "id": "view-in-github",
        "colab_type": "text"
      },
      "source": [
        "<a href=\"https://colab.research.google.com/github/varungole/digit-recognizer/blob/main/Digit_Recognizer.ipynb\" target=\"_parent\"><img src=\"https://colab.research.google.com/assets/colab-badge.svg\" alt=\"Open In Colab\"/></a>"
      ]
    },
    {
      "cell_type": "code",
      "execution_count": 238,
      "metadata": {
        "id": "KHLKtaDaRJXU"
      },
      "outputs": [],
      "source": [
        "import numpy as np # linear algebra\n",
        "import pandas as pd # data processing, CSV file I/O (e.g. pd.read_csv)\n",
        "import os\n",
        "import cv2\n",
        "import matplotlib.pyplot as plt\n",
        "from sklearn.model_selection import train_test_split\n",
        "import torch\n",
        "from torch.utils.data import DataLoader, TensorDataset\n",
        "from torchvision.utils import make_grid\n",
        "\n",
        "#neural net imports\n",
        "import torch.nn as nn\n",
        "import torch.nn.functional as F\n",
        "import torch.optim as optim\n",
        "from torchvision import models\n",
        "\n",
        "from datetime import datetime\n",
        "import warnings\n",
        "warnings.filterwarnings('ignore')"
      ]
    },
    {
      "cell_type": "code",
      "execution_count": 239,
      "metadata": {
        "colab": {
          "base_uri": "https://localhost:8080/",
          "height": 256
        },
        "id": "kIYz6m5lRxyV",
        "outputId": "d60b609e-734b-4b14-e4d7-7ef2551afeb9"
      },
      "outputs": [
        {
          "output_type": "execute_result",
          "data": {
            "text/plain": [
              "   label  pixel0  pixel1  pixel2  pixel3  pixel4  pixel5  pixel6  pixel7  \\\n",
              "0      1       0       0       0       0       0       0       0       0   \n",
              "1      0       0       0       0       0       0       0       0       0   \n",
              "2      1       0       0       0       0       0       0       0       0   \n",
              "3      4       0       0       0       0       0       0       0       0   \n",
              "4      0       0       0       0       0       0       0       0       0   \n",
              "\n",
              "   pixel8  ...  pixel774  pixel775  pixel776  pixel777  pixel778  pixel779  \\\n",
              "0       0  ...         0         0         0         0         0         0   \n",
              "1       0  ...         0         0         0         0         0         0   \n",
              "2       0  ...         0         0         0         0         0         0   \n",
              "3       0  ...         0         0         0         0         0         0   \n",
              "4       0  ...         0         0         0         0         0         0   \n",
              "\n",
              "   pixel780  pixel781  pixel782  pixel783  \n",
              "0         0         0         0         0  \n",
              "1         0         0         0         0  \n",
              "2         0         0         0         0  \n",
              "3         0         0         0         0  \n",
              "4         0         0         0         0  \n",
              "\n",
              "[5 rows x 785 columns]"
            ],
            "text/html": [
              "\n",
              "  <div id=\"df-85f50bbf-88ea-4d6a-8ae0-958af5479fc2\" class=\"colab-df-container\">\n",
              "    <div>\n",
              "<style scoped>\n",
              "    .dataframe tbody tr th:only-of-type {\n",
              "        vertical-align: middle;\n",
              "    }\n",
              "\n",
              "    .dataframe tbody tr th {\n",
              "        vertical-align: top;\n",
              "    }\n",
              "\n",
              "    .dataframe thead th {\n",
              "        text-align: right;\n",
              "    }\n",
              "</style>\n",
              "<table border=\"1\" class=\"dataframe\">\n",
              "  <thead>\n",
              "    <tr style=\"text-align: right;\">\n",
              "      <th></th>\n",
              "      <th>label</th>\n",
              "      <th>pixel0</th>\n",
              "      <th>pixel1</th>\n",
              "      <th>pixel2</th>\n",
              "      <th>pixel3</th>\n",
              "      <th>pixel4</th>\n",
              "      <th>pixel5</th>\n",
              "      <th>pixel6</th>\n",
              "      <th>pixel7</th>\n",
              "      <th>pixel8</th>\n",
              "      <th>...</th>\n",
              "      <th>pixel774</th>\n",
              "      <th>pixel775</th>\n",
              "      <th>pixel776</th>\n",
              "      <th>pixel777</th>\n",
              "      <th>pixel778</th>\n",
              "      <th>pixel779</th>\n",
              "      <th>pixel780</th>\n",
              "      <th>pixel781</th>\n",
              "      <th>pixel782</th>\n",
              "      <th>pixel783</th>\n",
              "    </tr>\n",
              "  </thead>\n",
              "  <tbody>\n",
              "    <tr>\n",
              "      <th>0</th>\n",
              "      <td>1</td>\n",
              "      <td>0</td>\n",
              "      <td>0</td>\n",
              "      <td>0</td>\n",
              "      <td>0</td>\n",
              "      <td>0</td>\n",
              "      <td>0</td>\n",
              "      <td>0</td>\n",
              "      <td>0</td>\n",
              "      <td>0</td>\n",
              "      <td>...</td>\n",
              "      <td>0</td>\n",
              "      <td>0</td>\n",
              "      <td>0</td>\n",
              "      <td>0</td>\n",
              "      <td>0</td>\n",
              "      <td>0</td>\n",
              "      <td>0</td>\n",
              "      <td>0</td>\n",
              "      <td>0</td>\n",
              "      <td>0</td>\n",
              "    </tr>\n",
              "    <tr>\n",
              "      <th>1</th>\n",
              "      <td>0</td>\n",
              "      <td>0</td>\n",
              "      <td>0</td>\n",
              "      <td>0</td>\n",
              "      <td>0</td>\n",
              "      <td>0</td>\n",
              "      <td>0</td>\n",
              "      <td>0</td>\n",
              "      <td>0</td>\n",
              "      <td>0</td>\n",
              "      <td>...</td>\n",
              "      <td>0</td>\n",
              "      <td>0</td>\n",
              "      <td>0</td>\n",
              "      <td>0</td>\n",
              "      <td>0</td>\n",
              "      <td>0</td>\n",
              "      <td>0</td>\n",
              "      <td>0</td>\n",
              "      <td>0</td>\n",
              "      <td>0</td>\n",
              "    </tr>\n",
              "    <tr>\n",
              "      <th>2</th>\n",
              "      <td>1</td>\n",
              "      <td>0</td>\n",
              "      <td>0</td>\n",
              "      <td>0</td>\n",
              "      <td>0</td>\n",
              "      <td>0</td>\n",
              "      <td>0</td>\n",
              "      <td>0</td>\n",
              "      <td>0</td>\n",
              "      <td>0</td>\n",
              "      <td>...</td>\n",
              "      <td>0</td>\n",
              "      <td>0</td>\n",
              "      <td>0</td>\n",
              "      <td>0</td>\n",
              "      <td>0</td>\n",
              "      <td>0</td>\n",
              "      <td>0</td>\n",
              "      <td>0</td>\n",
              "      <td>0</td>\n",
              "      <td>0</td>\n",
              "    </tr>\n",
              "    <tr>\n",
              "      <th>3</th>\n",
              "      <td>4</td>\n",
              "      <td>0</td>\n",
              "      <td>0</td>\n",
              "      <td>0</td>\n",
              "      <td>0</td>\n",
              "      <td>0</td>\n",
              "      <td>0</td>\n",
              "      <td>0</td>\n",
              "      <td>0</td>\n",
              "      <td>0</td>\n",
              "      <td>...</td>\n",
              "      <td>0</td>\n",
              "      <td>0</td>\n",
              "      <td>0</td>\n",
              "      <td>0</td>\n",
              "      <td>0</td>\n",
              "      <td>0</td>\n",
              "      <td>0</td>\n",
              "      <td>0</td>\n",
              "      <td>0</td>\n",
              "      <td>0</td>\n",
              "    </tr>\n",
              "    <tr>\n",
              "      <th>4</th>\n",
              "      <td>0</td>\n",
              "      <td>0</td>\n",
              "      <td>0</td>\n",
              "      <td>0</td>\n",
              "      <td>0</td>\n",
              "      <td>0</td>\n",
              "      <td>0</td>\n",
              "      <td>0</td>\n",
              "      <td>0</td>\n",
              "      <td>0</td>\n",
              "      <td>...</td>\n",
              "      <td>0</td>\n",
              "      <td>0</td>\n",
              "      <td>0</td>\n",
              "      <td>0</td>\n",
              "      <td>0</td>\n",
              "      <td>0</td>\n",
              "      <td>0</td>\n",
              "      <td>0</td>\n",
              "      <td>0</td>\n",
              "      <td>0</td>\n",
              "    </tr>\n",
              "  </tbody>\n",
              "</table>\n",
              "<p>5 rows × 785 columns</p>\n",
              "</div>\n",
              "    <div class=\"colab-df-buttons\">\n",
              "\n",
              "  <div class=\"colab-df-container\">\n",
              "    <button class=\"colab-df-convert\" onclick=\"convertToInteractive('df-85f50bbf-88ea-4d6a-8ae0-958af5479fc2')\"\n",
              "            title=\"Convert this dataframe to an interactive table.\"\n",
              "            style=\"display:none;\">\n",
              "\n",
              "  <svg xmlns=\"http://www.w3.org/2000/svg\" height=\"24px\" viewBox=\"0 -960 960 960\">\n",
              "    <path d=\"M120-120v-720h720v720H120Zm60-500h600v-160H180v160Zm220 220h160v-160H400v160Zm0 220h160v-160H400v160ZM180-400h160v-160H180v160Zm440 0h160v-160H620v160ZM180-180h160v-160H180v160Zm440 0h160v-160H620v160Z\"/>\n",
              "  </svg>\n",
              "    </button>\n",
              "\n",
              "  <style>\n",
              "    .colab-df-container {\n",
              "      display:flex;\n",
              "      gap: 12px;\n",
              "    }\n",
              "\n",
              "    .colab-df-convert {\n",
              "      background-color: #E8F0FE;\n",
              "      border: none;\n",
              "      border-radius: 50%;\n",
              "      cursor: pointer;\n",
              "      display: none;\n",
              "      fill: #1967D2;\n",
              "      height: 32px;\n",
              "      padding: 0 0 0 0;\n",
              "      width: 32px;\n",
              "    }\n",
              "\n",
              "    .colab-df-convert:hover {\n",
              "      background-color: #E2EBFA;\n",
              "      box-shadow: 0px 1px 2px rgba(60, 64, 67, 0.3), 0px 1px 3px 1px rgba(60, 64, 67, 0.15);\n",
              "      fill: #174EA6;\n",
              "    }\n",
              "\n",
              "    .colab-df-buttons div {\n",
              "      margin-bottom: 4px;\n",
              "    }\n",
              "\n",
              "    [theme=dark] .colab-df-convert {\n",
              "      background-color: #3B4455;\n",
              "      fill: #D2E3FC;\n",
              "    }\n",
              "\n",
              "    [theme=dark] .colab-df-convert:hover {\n",
              "      background-color: #434B5C;\n",
              "      box-shadow: 0px 1px 3px 1px rgba(0, 0, 0, 0.15);\n",
              "      filter: drop-shadow(0px 1px 2px rgba(0, 0, 0, 0.3));\n",
              "      fill: #FFFFFF;\n",
              "    }\n",
              "  </style>\n",
              "\n",
              "    <script>\n",
              "      const buttonEl =\n",
              "        document.querySelector('#df-85f50bbf-88ea-4d6a-8ae0-958af5479fc2 button.colab-df-convert');\n",
              "      buttonEl.style.display =\n",
              "        google.colab.kernel.accessAllowed ? 'block' : 'none';\n",
              "\n",
              "      async function convertToInteractive(key) {\n",
              "        const element = document.querySelector('#df-85f50bbf-88ea-4d6a-8ae0-958af5479fc2');\n",
              "        const dataTable =\n",
              "          await google.colab.kernel.invokeFunction('convertToInteractive',\n",
              "                                                    [key], {});\n",
              "        if (!dataTable) return;\n",
              "\n",
              "        const docLinkHtml = 'Like what you see? Visit the ' +\n",
              "          '<a target=\"_blank\" href=https://colab.research.google.com/notebooks/data_table.ipynb>data table notebook</a>'\n",
              "          + ' to learn more about interactive tables.';\n",
              "        element.innerHTML = '';\n",
              "        dataTable['output_type'] = 'display_data';\n",
              "        await google.colab.output.renderOutput(dataTable, element);\n",
              "        const docLink = document.createElement('div');\n",
              "        docLink.innerHTML = docLinkHtml;\n",
              "        element.appendChild(docLink);\n",
              "      }\n",
              "    </script>\n",
              "  </div>\n",
              "\n",
              "\n",
              "<div id=\"df-5cec6194-e3b6-48cc-acb1-ec6e2775a00d\">\n",
              "  <button class=\"colab-df-quickchart\" onclick=\"quickchart('df-5cec6194-e3b6-48cc-acb1-ec6e2775a00d')\"\n",
              "            title=\"Suggest charts\"\n",
              "            style=\"display:none;\">\n",
              "\n",
              "<svg xmlns=\"http://www.w3.org/2000/svg\" height=\"24px\"viewBox=\"0 0 24 24\"\n",
              "     width=\"24px\">\n",
              "    <g>\n",
              "        <path d=\"M19 3H5c-1.1 0-2 .9-2 2v14c0 1.1.9 2 2 2h14c1.1 0 2-.9 2-2V5c0-1.1-.9-2-2-2zM9 17H7v-7h2v7zm4 0h-2V7h2v10zm4 0h-2v-4h2v4z\"/>\n",
              "    </g>\n",
              "</svg>\n",
              "  </button>\n",
              "\n",
              "<style>\n",
              "  .colab-df-quickchart {\n",
              "      --bg-color: #E8F0FE;\n",
              "      --fill-color: #1967D2;\n",
              "      --hover-bg-color: #E2EBFA;\n",
              "      --hover-fill-color: #174EA6;\n",
              "      --disabled-fill-color: #AAA;\n",
              "      --disabled-bg-color: #DDD;\n",
              "  }\n",
              "\n",
              "  [theme=dark] .colab-df-quickchart {\n",
              "      --bg-color: #3B4455;\n",
              "      --fill-color: #D2E3FC;\n",
              "      --hover-bg-color: #434B5C;\n",
              "      --hover-fill-color: #FFFFFF;\n",
              "      --disabled-bg-color: #3B4455;\n",
              "      --disabled-fill-color: #666;\n",
              "  }\n",
              "\n",
              "  .colab-df-quickchart {\n",
              "    background-color: var(--bg-color);\n",
              "    border: none;\n",
              "    border-radius: 50%;\n",
              "    cursor: pointer;\n",
              "    display: none;\n",
              "    fill: var(--fill-color);\n",
              "    height: 32px;\n",
              "    padding: 0;\n",
              "    width: 32px;\n",
              "  }\n",
              "\n",
              "  .colab-df-quickchart:hover {\n",
              "    background-color: var(--hover-bg-color);\n",
              "    box-shadow: 0 1px 2px rgba(60, 64, 67, 0.3), 0 1px 3px 1px rgba(60, 64, 67, 0.15);\n",
              "    fill: var(--button-hover-fill-color);\n",
              "  }\n",
              "\n",
              "  .colab-df-quickchart-complete:disabled,\n",
              "  .colab-df-quickchart-complete:disabled:hover {\n",
              "    background-color: var(--disabled-bg-color);\n",
              "    fill: var(--disabled-fill-color);\n",
              "    box-shadow: none;\n",
              "  }\n",
              "\n",
              "  .colab-df-spinner {\n",
              "    border: 2px solid var(--fill-color);\n",
              "    border-color: transparent;\n",
              "    border-bottom-color: var(--fill-color);\n",
              "    animation:\n",
              "      spin 1s steps(1) infinite;\n",
              "  }\n",
              "\n",
              "  @keyframes spin {\n",
              "    0% {\n",
              "      border-color: transparent;\n",
              "      border-bottom-color: var(--fill-color);\n",
              "      border-left-color: var(--fill-color);\n",
              "    }\n",
              "    20% {\n",
              "      border-color: transparent;\n",
              "      border-left-color: var(--fill-color);\n",
              "      border-top-color: var(--fill-color);\n",
              "    }\n",
              "    30% {\n",
              "      border-color: transparent;\n",
              "      border-left-color: var(--fill-color);\n",
              "      border-top-color: var(--fill-color);\n",
              "      border-right-color: var(--fill-color);\n",
              "    }\n",
              "    40% {\n",
              "      border-color: transparent;\n",
              "      border-right-color: var(--fill-color);\n",
              "      border-top-color: var(--fill-color);\n",
              "    }\n",
              "    60% {\n",
              "      border-color: transparent;\n",
              "      border-right-color: var(--fill-color);\n",
              "    }\n",
              "    80% {\n",
              "      border-color: transparent;\n",
              "      border-right-color: var(--fill-color);\n",
              "      border-bottom-color: var(--fill-color);\n",
              "    }\n",
              "    90% {\n",
              "      border-color: transparent;\n",
              "      border-bottom-color: var(--fill-color);\n",
              "    }\n",
              "  }\n",
              "</style>\n",
              "\n",
              "  <script>\n",
              "    async function quickchart(key) {\n",
              "      const quickchartButtonEl =\n",
              "        document.querySelector('#' + key + ' button');\n",
              "      quickchartButtonEl.disabled = true;  // To prevent multiple clicks.\n",
              "      quickchartButtonEl.classList.add('colab-df-spinner');\n",
              "      try {\n",
              "        const charts = await google.colab.kernel.invokeFunction(\n",
              "            'suggestCharts', [key], {});\n",
              "      } catch (error) {\n",
              "        console.error('Error during call to suggestCharts:', error);\n",
              "      }\n",
              "      quickchartButtonEl.classList.remove('colab-df-spinner');\n",
              "      quickchartButtonEl.classList.add('colab-df-quickchart-complete');\n",
              "    }\n",
              "    (() => {\n",
              "      let quickchartButtonEl =\n",
              "        document.querySelector('#df-5cec6194-e3b6-48cc-acb1-ec6e2775a00d button');\n",
              "      quickchartButtonEl.style.display =\n",
              "        google.colab.kernel.accessAllowed ? 'block' : 'none';\n",
              "    })();\n",
              "  </script>\n",
              "</div>\n",
              "    </div>\n",
              "  </div>\n"
            ]
          },
          "metadata": {},
          "execution_count": 239
        }
      ],
      "source": [
        "train = pd.read_csv('train.csv') # Loading training data\n",
        "test = pd.read_csv('test.csv') # Loading test data\n",
        "train.head()"
      ]
    },
    {
      "cell_type": "code",
      "execution_count": 240,
      "metadata": {
        "id": "5BxS_F0eSBVM"
      },
      "outputs": [],
      "source": [
        "#Explolatory Data Analysis (EDA)"
      ]
    },
    {
      "cell_type": "code",
      "execution_count": 241,
      "metadata": {
        "colab": {
          "base_uri": "https://localhost:8080/"
        },
        "id": "4omvu8W0SLv1",
        "outputId": "83f3bffe-f5a5-4d1e-83f8-e83888b9563d"
      },
      "outputs": [
        {
          "output_type": "stream",
          "name": "stdout",
          "text": [
            "Training Dataset: \n",
            "\tnumber of images: 42000\n",
            "\tnumber of features: 785\n",
            "\tmissing data: 0\n"
          ]
        }
      ],
      "source": [
        "print(f\"Training Dataset: \\n\\tnumber of images: {train.shape[0]}\\n\\tnumber of features: {train.shape[1]}\")\n",
        "print(f\"\\tmissing data: {train.isnull().sum().sum()}\")"
      ]
    },
    {
      "cell_type": "code",
      "execution_count": 242,
      "metadata": {
        "colab": {
          "base_uri": "https://localhost:8080/"
        },
        "id": "dxO2tkrCSO0M",
        "outputId": "60f1fe26-e60c-4e69-b7f9-73c8341c7329"
      },
      "outputs": [
        {
          "output_type": "stream",
          "name": "stdout",
          "text": [
            "Test Dataset: \n",
            "\tnumber of images: 28000\n",
            "\tnumber of features: 784\n",
            "\tmissing data: 0\n"
          ]
        }
      ],
      "source": [
        "print(f\"Test Dataset: \\n\\tnumber of images: {test.shape[0]}\\n\\tnumber of features: {test.shape[1]}\")\n",
        "print(f\"\\tmissing data: {test.isnull().sum().sum()}\")"
      ]
    },
    {
      "cell_type": "code",
      "execution_count": 243,
      "metadata": {
        "colab": {
          "base_uri": "https://localhost:8080/"
        },
        "id": "-e7i12GISfqX",
        "outputId": "40db7d5b-d4a9-4e59-c24f-ea1b9e3ad0c2"
      },
      "outputs": [
        {
          "output_type": "stream",
          "name": "stdout",
          "text": [
            "Classes: Int64Index([1, 7, 3, 9, 2, 6, 0, 4, 8, 5], dtype='int64')\n",
            "Number of images per label: 1    4684\n",
            "7    4401\n",
            "3    4351\n",
            "9    4188\n",
            "2    4177\n",
            "6    4137\n",
            "0    4132\n",
            "4    4072\n",
            "8    4063\n",
            "5    3795\n",
            "Name: label, dtype: int64\n"
          ]
        }
      ],
      "source": [
        "labels = train.label.value_counts().index # Get the class names\n",
        "counts = train.label.value_counts() # Get the number of rows by class\n",
        "\n",
        "print(f\"Classes: {labels}\")\n",
        "print(f\"Number of images per label: {counts}\")"
      ]
    },
    {
      "cell_type": "code",
      "execution_count": 244,
      "metadata": {
        "colab": {
          "base_uri": "https://localhost:8080/",
          "height": 507
        },
        "id": "gYgjMO1vSlxa",
        "outputId": "debdd02d-f290-49f3-b0a6-f9df1fab2afa"
      },
      "outputs": [
        {
          "output_type": "display_data",
          "data": {
            "text/plain": [
              "<Figure size 1000x500 with 1 Axes>"
            ],
            "image/png": "[encoded data removed]"
          },
          "metadata": {}
        }
      ],
      "source": [
        "plt.figure(figsize=(10, 5))\n",
        "plt.bar(labels, counts)\n",
        "plt.xticks(np.arange(len(labels)), labels)\n",
        "plt.xlabel('Class', fontsize=14) # Add text to the X-axis\n",
        "plt.ylabel('Count', fontsize=14) # Add text to the Y axis\n",
        "plt.title('Class Distribution', fontsize=15) # Add a header about class distribution\n",
        "\n",
        "# We add a line to show the uniformity of the distribution of features\n",
        "plt.axhline(counts.mean(), color='red', linewidth=2, label='Mean')\n",
        "\n",
        "plt.legend()\n",
        "plt.grid(axis='y', linestyle='dotted')\n",
        "\n",
        "plt.tight_layout()\n",
        "plt.show()"
      ]
    },
    {
      "cell_type": "code",
      "execution_count": 245,
      "metadata": {
        "id": "D9St1_p8TTSf"
      },
      "outputs": [],
      "source": [
        "X = train.drop('label' , axis = 1)"
      ]
    },
    {
      "cell_type": "code",
      "execution_count": 246,
      "metadata": {
        "colab": {
          "base_uri": "https://localhost:8080/",
          "height": 256
        },
        "id": "VZgd58hrTa3r",
        "outputId": "f50f106d-f6d6-482f-94bf-2f32ca89ae34"
      },
      "outputs": [
        {
          "output_type": "execute_result",
          "data": {
            "text/plain": [
              "   pixel0  pixel1  pixel2  pixel3  pixel4  pixel5  pixel6  pixel7  pixel8  \\\n",
              "0       0       0       0       0       0       0       0       0       0   \n",
              "1       0       0       0       0       0       0       0       0       0   \n",
              "2       0       0       0       0       0       0       0       0       0   \n",
              "3       0       0       0       0       0       0       0       0       0   \n",
              "4       0       0       0       0       0       0       0       0       0   \n",
              "\n",
              "   pixel9  ...  pixel774  pixel775  pixel776  pixel777  pixel778  pixel779  \\\n",
              "0       0  ...         0         0         0         0         0         0   \n",
              "1       0  ...         0         0         0         0         0         0   \n",
              "2       0  ...         0         0         0         0         0         0   \n",
              "3       0  ...         0         0         0         0         0         0   \n",
              "4       0  ...         0         0         0         0         0         0   \n",
              "\n",
              "   pixel780  pixel781  pixel782  pixel783  \n",
              "0         0         0         0         0  \n",
              "1         0         0         0         0  \n",
              "2         0         0         0         0  \n",
              "3         0         0         0         0  \n",
              "4         0         0         0         0  \n",
              "\n",
              "[5 rows x 784 columns]"
            ],
            "text/html": [
              "\n",
              "  <div id=\"df-b24d914b-fb23-43f3-80d1-52d3902b68b3\" class=\"colab-df-container\">\n",
              "    <div>\n",
              "<style scoped>\n",
              "    .dataframe tbody tr th:only-of-type {\n",
              "        vertical-align: middle;\n",
              "    }\n",
              "\n",
              "    .dataframe tbody tr th {\n",
              "        vertical-align: top;\n",
              "    }\n",
              "\n",
              "    .dataframe thead th {\n",
              "        text-align: right;\n",
              "    }\n",
              "</style>\n",
              "<table border=\"1\" class=\"dataframe\">\n",
              "  <thead>\n",
              "    <tr style=\"text-align: right;\">\n",
              "      <th></th>\n",
              "      <th>pixel0</th>\n",
              "      <th>pixel1</th>\n",
              "      <th>pixel2</th>\n",
              "      <th>pixel3</th>\n",
              "      <th>pixel4</th>\n",
              "      <th>pixel5</th>\n",
              "      <th>pixel6</th>\n",
              "      <th>pixel7</th>\n",
              "      <th>pixel8</th>\n",
              "      <th>pixel9</th>\n",
              "      <th>...</th>\n",
              "      <th>pixel774</th>\n",
              "      <th>pixel775</th>\n",
              "      <th>pixel776</th>\n",
              "      <th>pixel777</th>\n",
              "      <th>pixel778</th>\n",
              "      <th>pixel779</th>\n",
              "      <th>pixel780</th>\n",
              "      <th>pixel781</th>\n",
              "      <th>pixel782</th>\n",
              "      <th>pixel783</th>\n",
              "    </tr>\n",
              "  </thead>\n",
              "  <tbody>\n",
              "    <tr>\n",
              "      <th>0</th>\n",
              "      <td>0</td>\n",
              "      <td>0</td>\n",
              "      <td>0</td>\n",
              "      <td>0</td>\n",
              "      <td>0</td>\n",
              "      <td>0</td>\n",
              "      <td>0</td>\n",
              "      <td>0</td>\n",
              "      <td>0</td>\n",
              "      <td>0</td>\n",
              "      <td>...</td>\n",
              "      <td>0</td>\n",
              "      <td>0</td>\n",
              "      <td>0</td>\n",
              "      <td>0</td>\n",
              "      <td>0</td>\n",
              "      <td>0</td>\n",
              "      <td>0</td>\n",
              "      <td>0</td>\n",
              "      <td>0</td>\n",
              "      <td>0</td>\n",
              "    </tr>\n",
              "    <tr>\n",
              "      <th>1</th>\n",
              "      <td>0</td>\n",
              "      <td>0</td>\n",
              "      <td>0</td>\n",
              "      <td>0</td>\n",
              "      <td>0</td>\n",
              "      <td>0</td>\n",
              "      <td>0</td>\n",
              "      <td>0</td>\n",
              "      <td>0</td>\n",
              "      <td>0</td>\n",
              "      <td>...</td>\n",
              "      <td>0</td>\n",
              "      <td>0</td>\n",
              "      <td>0</td>\n",
              "      <td>0</td>\n",
              "      <td>0</td>\n",
              "      <td>0</td>\n",
              "      <td>0</td>\n",
              "      <td>0</td>\n",
              "      <td>0</td>\n",
              "      <td>0</td>\n",
              "    </tr>\n",
              "    <tr>\n",
              "      <th>2</th>\n",
              "      <td>0</td>\n",
              "      <td>0</td>\n",
              "      <td>0</td>\n",
              "      <td>0</td>\n",
              "      <td>0</td>\n",
              "      <td>0</td>\n",
              "      <td>0</td>\n",
              "      <td>0</td>\n",
              "      <td>0</td>\n",
              "      <td>0</td>\n",
              "      <td>...</td>\n",
              "      <td>0</td>\n",
              "      <td>0</td>\n",
              "      <td>0</td>\n",
              "      <td>0</td>\n",
              "      <td>0</td>\n",
              "      <td>0</td>\n",
              "      <td>0</td>\n",
              "      <td>0</td>\n",
              "      <td>0</td>\n",
              "      <td>0</td>\n",
              "    </tr>\n",
              "    <tr>\n",
              "      <th>3</th>\n",
              "      <td>0</td>\n",
              "      <td>0</td>\n",
              "      <td>0</td>\n",
              "      <td>0</td>\n",
              "      <td>0</td>\n",
              "      <td>0</td>\n",
              "      <td>0</td>\n",
              "      <td>0</td>\n",
              "      <td>0</td>\n",
              "      <td>0</td>\n",
              "      <td>...</td>\n",
              "      <td>0</td>\n",
              "      <td>0</td>\n",
              "      <td>0</td>\n",
              "      <td>0</td>\n",
              "      <td>0</td>\n",
              "      <td>0</td>\n",
              "      <td>0</td>\n",
              "      <td>0</td>\n",
              "      <td>0</td>\n",
              "      <td>0</td>\n",
              "    </tr>\n",
              "    <tr>\n",
              "      <th>4</th>\n",
              "      <td>0</td>\n",
              "      <td>0</td>\n",
              "      <td>0</td>\n",
              "      <td>0</td>\n",
              "      <td>0</td>\n",
              "      <td>0</td>\n",
              "      <td>0</td>\n",
              "      <td>0</td>\n",
              "      <td>0</td>\n",
              "      <td>0</td>\n",
              "      <td>...</td>\n",
              "      <td>0</td>\n",
              "      <td>0</td>\n",
              "      <td>0</td>\n",
              "      <td>0</td>\n",
              "      <td>0</td>\n",
              "      <td>0</td>\n",
              "      <td>0</td>\n",
              "      <td>0</td>\n",
              "      <td>0</td>\n",
              "      <td>0</td>\n",
              "    </tr>\n",
              "  </tbody>\n",
              "</table>\n",
              "<p>5 rows × 784 columns</p>\n",
              "</div>\n",
              "    <div class=\"colab-df-buttons\">\n",
              "\n",
              "  <div class=\"colab-df-container\">\n",
              "    <button class=\"colab-df-convert\" onclick=\"convertToInteractive('df-b24d914b-fb23-43f3-80d1-52d3902b68b3')\"\n",
              "            title=\"Convert this dataframe to an interactive table.\"\n",
              "            style=\"display:none;\">\n",
              "\n",
              "  <svg xmlns=\"http://www.w3.org/2000/svg\" height=\"24px\" viewBox=\"0 -960 960 960\">\n",
              "    <path d=\"M120-120v-720h720v720H120Zm60-500h600v-160H180v160Zm220 220h160v-160H400v160Zm0 220h160v-160H400v160ZM180-400h160v-160H180v160Zm440 0h160v-160H620v160ZM180-180h160v-160H180v160Zm440 0h160v-160H620v160Z\"/>\n",
              "  </svg>\n",
              "    </button>\n",
              "\n",
              "  <style>\n",
              "    .colab-df-container {\n",
              "      display:flex;\n",
              "      gap: 12px;\n",
              "    }\n",
              "\n",
              "    .colab-df-convert {\n",
              "      background-color: #E8F0FE;\n",
              "      border: none;\n",
              "      border-radius: 50%;\n",
              "      cursor: pointer;\n",
              "      display: none;\n",
              "      fill: #1967D2;\n",
              "      height: 32px;\n",
              "      padding: 0 0 0 0;\n",
              "      width: 32px;\n",
              "    }\n",
              "\n",
              "    .colab-df-convert:hover {\n",
              "      background-color: #E2EBFA;\n",
              "      box-shadow: 0px 1px 2px rgba(60, 64, 67, 0.3), 0px 1px 3px 1px rgba(60, 64, 67, 0.15);\n",
              "      fill: #174EA6;\n",
              "    }\n",
              "\n",
              "    .colab-df-buttons div {\n",
              "      margin-bottom: 4px;\n",
              "    }\n",
              "\n",
              "    [theme=dark] .colab-df-convert {\n",
              "      background-color: #3B4455;\n",
              "      fill: #D2E3FC;\n",
              "    }\n",
              "\n",
              "    [theme=dark] .colab-df-convert:hover {\n",
              "      background-color: #434B5C;\n",
              "      box-shadow: 0px 1px 3px 1px rgba(0, 0, 0, 0.15);\n",
              "      filter: drop-shadow(0px 1px 2px rgba(0, 0, 0, 0.3));\n",
              "      fill: #FFFFFF;\n",
              "    }\n",
              "  </style>\n",
              "\n",
              "    <script>\n",
              "      const buttonEl =\n",
              "        document.querySelector('#df-b24d914b-fb23-43f3-80d1-52d3902b68b3 button.colab-df-convert');\n",
              "      buttonEl.style.display =\n",
              "        google.colab.kernel.accessAllowed ? 'block' : 'none';\n",
              "\n",
              "      async function convertToInteractive(key) {\n",
              "        const element = document.querySelector('#df-b24d914b-fb23-43f3-80d1-52d3902b68b3');\n",
              "        const dataTable =\n",
              "          await google.colab.kernel.invokeFunction('convertToInteractive',\n",
              "                                                    [key], {});\n",
              "        if (!dataTable) return;\n",
              "\n",
              "        const docLinkHtml = 'Like what you see? Visit the ' +\n",
              "          '<a target=\"_blank\" href=https://colab.research.google.com/notebooks/data_table.ipynb>data table notebook</a>'\n",
              "          + ' to learn more about interactive tables.';\n",
              "        element.innerHTML = '';\n",
              "        dataTable['output_type'] = 'display_data';\n",
              "        await google.colab.output.renderOutput(dataTable, element);\n",
              "        const docLink = document.createElement('div');\n",
              "        docLink.innerHTML = docLinkHtml;\n",
              "        element.appendChild(docLink);\n",
              "      }\n",
              "    </script>\n",
              "  </div>\n",
              "\n",
              "\n",
              "<div id=\"df-4d65345e-37a3-4666-b338-caa560b66ab7\">\n",
              "  <button class=\"colab-df-quickchart\" onclick=\"quickchart('df-4d65345e-37a3-4666-b338-caa560b66ab7')\"\n",
              "            title=\"Suggest charts\"\n",
              "            style=\"display:none;\">\n",
              "\n",
              "<svg xmlns=\"http://www.w3.org/2000/svg\" height=\"24px\"viewBox=\"0 0 24 24\"\n",
              "     width=\"24px\">\n",
              "    <g>\n",
              "        <path d=\"M19 3H5c-1.1 0-2 .9-2 2v14c0 1.1.9 2 2 2h14c1.1 0 2-.9 2-2V5c0-1.1-.9-2-2-2zM9 17H7v-7h2v7zm4 0h-2V7h2v10zm4 0h-2v-4h2v4z\"/>\n",
              "    </g>\n",
              "</svg>\n",
              "  </button>\n",
              "\n",
              "<style>\n",
              "  .colab-df-quickchart {\n",
              "      --bg-color: #E8F0FE;\n",
              "      --fill-color: #1967D2;\n",
              "      --hover-bg-color: #E2EBFA;\n",
              "      --hover-fill-color: #174EA6;\n",
              "      --disabled-fill-color: #AAA;\n",
              "      --disabled-bg-color: #DDD;\n",
              "  }\n",
              "\n",
              "  [theme=dark] .colab-df-quickchart {\n",
              "      --bg-color: #3B4455;\n",
              "      --fill-color: #D2E3FC;\n",
              "      --hover-bg-color: #434B5C;\n",
              "      --hover-fill-color: #FFFFFF;\n",
              "      --disabled-bg-color: #3B4455;\n",
              "      --disabled-fill-color: #666;\n",
              "  }\n",
              "\n",
              "  .colab-df-quickchart {\n",
              "    background-color: var(--bg-color);\n",
              "    border: none;\n",
              "    border-radius: 50%;\n",
              "    cursor: pointer;\n",
              "    display: none;\n",
              "    fill: var(--fill-color);\n",
              "    height: 32px;\n",
              "    padding: 0;\n",
              "    width: 32px;\n",
              "  }\n",
              "\n",
              "  .colab-df-quickchart:hover {\n",
              "    background-color: var(--hover-bg-color);\n",
              "    box-shadow: 0 1px 2px rgba(60, 64, 67, 0.3), 0 1px 3px 1px rgba(60, 64, 67, 0.15);\n",
              "    fill: var(--button-hover-fill-color);\n",
              "  }\n",
              "\n",
              "  .colab-df-quickchart-complete:disabled,\n",
              "  .colab-df-quickchart-complete:disabled:hover {\n",
              "    background-color: var(--disabled-bg-color);\n",
              "    fill: var(--disabled-fill-color);\n",
              "    box-shadow: none;\n",
              "  }\n",
              "\n",
              "  .colab-df-spinner {\n",
              "    border: 2px solid var(--fill-color);\n",
              "    border-color: transparent;\n",
              "    border-bottom-color: var(--fill-color);\n",
              "    animation:\n",
              "      spin 1s steps(1) infinite;\n",
              "  }\n",
              "\n",
              "  @keyframes spin {\n",
              "    0% {\n",
              "      border-color: transparent;\n",
              "      border-bottom-color: var(--fill-color);\n",
              "      border-left-color: var(--fill-color);\n",
              "    }\n",
              "    20% {\n",
              "      border-color: transparent;\n",
              "      border-left-color: var(--fill-color);\n",
              "      border-top-color: var(--fill-color);\n",
              "    }\n",
              "    30% {\n",
              "      border-color: transparent;\n",
              "      border-left-color: var(--fill-color);\n",
              "      border-top-color: var(--fill-color);\n",
              "      border-right-color: var(--fill-color);\n",
              "    }\n",
              "    40% {\n",
              "      border-color: transparent;\n",
              "      border-right-color: var(--fill-color);\n",
              "      border-top-color: var(--fill-color);\n",
              "    }\n",
              "    60% {\n",
              "      border-color: transparent;\n",
              "      border-right-color: var(--fill-color);\n",
              "    }\n",
              "    80% {\n",
              "      border-color: transparent;\n",
              "      border-right-color: var(--fill-color);\n",
              "      border-bottom-color: var(--fill-color);\n",
              "    }\n",
              "    90% {\n",
              "      border-color: transparent;\n",
              "      border-bottom-color: var(--fill-color);\n",
              "    }\n",
              "  }\n",
              "</style>\n",
              "\n",
              "  <script>\n",
              "    async function quickchart(key) {\n",
              "      const quickchartButtonEl =\n",
              "        document.querySelector('#' + key + ' button');\n",
              "      quickchartButtonEl.disabled = true;  // To prevent multiple clicks.\n",
              "      quickchartButtonEl.classList.add('colab-df-spinner');\n",
              "      try {\n",
              "        const charts = await google.colab.kernel.invokeFunction(\n",
              "            'suggestCharts', [key], {});\n",
              "      } catch (error) {\n",
              "        console.error('Error during call to suggestCharts:', error);\n",
              "      }\n",
              "      quickchartButtonEl.classList.remove('colab-df-spinner');\n",
              "      quickchartButtonEl.classList.add('colab-df-quickchart-complete');\n",
              "    }\n",
              "    (() => {\n",
              "      let quickchartButtonEl =\n",
              "        document.querySelector('#df-4d65345e-37a3-4666-b338-caa560b66ab7 button');\n",
              "      quickchartButtonEl.style.display =\n",
              "        google.colab.kernel.accessAllowed ? 'block' : 'none';\n",
              "    })();\n",
              "  </script>\n",
              "</div>\n",
              "    </div>\n",
              "  </div>\n"
            ]
          },
          "metadata": {},
          "execution_count": 246
        }
      ],
      "source": [
        "X.head()"
      ]
    },
    {
      "cell_type": "code",
      "execution_count": 247,
      "metadata": {
        "colab": {
          "base_uri": "https://localhost:8080/"
        },
        "id": "tf1a9atqTbam",
        "outputId": "f31413ca-b429-43d6-c570-740b0f0ba790"
      },
      "outputs": [
        {
          "output_type": "stream",
          "name": "stdout",
          "text": [
            "Minimum pixel value for training dataset: 0\n",
            "Maximum pixel value for training dataset: 255\n"
          ]
        }
      ],
      "source": [
        "print(f\"Minimum pixel value for training dataset: {train.min().min()}\")\n",
        "print(f\"Maximum pixel value for training dataset: {train.max().max()}\")"
      ]
    },
    {
      "cell_type": "code",
      "execution_count": 248,
      "metadata": {
        "id": "Pd83NT2HTdzV"
      },
      "outputs": [],
      "source": [
        "X = np.array(X)"
      ]
    },
    {
      "cell_type": "code",
      "execution_count": 249,
      "metadata": {
        "id": "M1nZORJMTiCj"
      },
      "outputs": [],
      "source": [
        "#now we set datatype to float\n",
        "X = X.astype('float32')"
      ]
    },
    {
      "cell_type": "code",
      "execution_count": 250,
      "metadata": {
        "id": "Q4LLxQfETl4t"
      },
      "outputs": [],
      "source": [
        "#Normalize\n",
        "X = X/ 255.0"
      ]
    },
    {
      "cell_type": "code",
      "execution_count": 251,
      "metadata": {
        "id": "Pg1Ndo2uTreO"
      },
      "outputs": [],
      "source": [
        "#images are in graysscale, we convert them to RGB\n",
        "X = cv2.cvtColor(X , cv2.COLOR_GRAY2RGB)"
      ]
    },
    {
      "cell_type": "code",
      "execution_count": 252,
      "metadata": {
        "id": "I80X1a3GUFgz"
      },
      "outputs": [],
      "source": [
        "X = X.reshape(-1 , 28 , 28 , 3)"
      ]
    },
    {
      "cell_type": "code",
      "execution_count": 253,
      "metadata": {
        "id": "IujUsRTNUbdf"
      },
      "outputs": [],
      "source": [
        "y = train.label"
      ]
    },
    {
      "cell_type": "code",
      "execution_count": 254,
      "metadata": {
        "colab": {
          "base_uri": "https://localhost:8080/"
        },
        "id": "GyZIPPCUUdvi",
        "outputId": "7be64c10-318e-46e1-f126-783129af82d5"
      },
      "outputs": [
        {
          "output_type": "execute_result",
          "data": {
            "text/plain": [
              "0        1\n",
              "1        0\n",
              "2        1\n",
              "3        4\n",
              "4        0\n",
              "        ..\n",
              "41995    0\n",
              "41996    1\n",
              "41997    7\n",
              "41998    6\n",
              "41999    9\n",
              "Name: label, Length: 42000, dtype: int64"
            ]
          },
          "metadata": {},
          "execution_count": 254
        }
      ],
      "source": [
        "y"
      ]
    },
    {
      "cell_type": "code",
      "execution_count": 255,
      "metadata": {
        "colab": {
          "base_uri": "https://localhost:8080/",
          "height": 466
        },
        "id": "nzLgtgocUeHL",
        "outputId": "1fa45f94-012d-4458-9991-fddee95cc456"
      },
      "outputs": [
        {
          "output_type": "stream",
          "name": "stdout",
          "text": [
            "\n",
            "Example of a training image for label :1\n"
          ]
        },
        {
          "output_type": "display_data",
          "data": {
            "text/plain": [
              "<Figure size 640x480 with 1 Axes>"
            ],
            "image/png": "[encoded data removed]"
          },
          "metadata": {}
        }
      ],
      "source": [
        "print(f\"\\nExample of a training image for label :{y[0]}\")\n",
        "train_img_plot = plt.imshow(X[0])\n",
        "plt.show()"
      ]
    },
    {
      "cell_type": "code",
      "execution_count": 256,
      "metadata": {
        "id": "Dw0qjGWlUh5Z"
      },
      "outputs": [],
      "source": [
        "#we need to preprocess test dataset as well"
      ]
    },
    {
      "cell_type": "code",
      "execution_count": 257,
      "metadata": {
        "colab": {
          "base_uri": "https://localhost:8080/",
          "height": 501
        },
        "id": "eSbrRBwpUs3M",
        "outputId": "43019db8-e3cd-48a7-f4d5-78a4446a99bb"
      },
      "outputs": [
        {
          "output_type": "stream",
          "name": "stdout",
          "text": [
            "Minimum pixel value for test dataset: 0\n",
            "Maximum pixel value for test dataset: 255\n",
            "\n",
            "Example of a test image\n"
          ]
        },
        {
          "output_type": "display_data",
          "data": {
            "text/plain": [
              "<Figure size 640x480 with 1 Axes>"
            ],
            "image/png": "[encoded data removed]"
          },
          "metadata": {}
        }
      ],
      "source": [
        "## Test dataset\n",
        "\n",
        "test = np.array(test) # Convert DataFrame to numpy array\n",
        "\n",
        "# Change the color depth from 0 to 1\n",
        "print(f\"Minimum pixel value for test dataset: {test.min().min()}\")\n",
        "print(f\"Maximum pixel value for test dataset: {test.max().max()}\")\n",
        "\n",
        "test = test.astype('float32') # Set datatype as float32\n",
        "test = test / 255.0 # Normalize pixel value\n",
        "\n",
        "# Convert an image from grayscale to RGB\n",
        "test = cv2.cvtColor(test, cv2.COLOR_GRAY2RGB)\n",
        "test = test.reshape(-1, 28, 28, 3)\n",
        "\n",
        "\n",
        "print(f\"\\nExample of a test image\")\n",
        "test_img_plot = plt.imshow(test[0])\n",
        "plt.show()"
      ]
    },
    {
      "cell_type": "code",
      "execution_count": 258,
      "metadata": {
        "id": "vhZuTfgNUu69"
      },
      "outputs": [],
      "source": [
        "#Now, we need to do data preprocessing for deep learning"
      ]
    },
    {
      "cell_type": "code",
      "execution_count": 259,
      "metadata": {
        "id": "tdXuMEpTU0PC"
      },
      "outputs": [],
      "source": [
        "X_train , X_val , y_train , y_val = train_test_split(X, y, test_size=0.20, random_state=16)"
      ]
    },
    {
      "cell_type": "code",
      "execution_count": 260,
      "metadata": {
        "id": "tCEkwU09U5MO"
      },
      "outputs": [],
      "source": [
        "#Convert training and tresting datasets from numpy to torch datasets"
      ]
    },
    {
      "cell_type": "code",
      "execution_count": 261,
      "metadata": {
        "id": "R843HzVMU-ku"
      },
      "outputs": [],
      "source": [
        "X_train_t = torch.from_numpy(X_train).float()"
      ]
    },
    {
      "cell_type": "code",
      "execution_count": 262,
      "metadata": {
        "id": "xfJF6EiOVERG"
      },
      "outputs": [],
      "source": [
        "y_train_t =  torch.from_numpy(y_train.values)"
      ]
    },
    {
      "cell_type": "code",
      "execution_count": 263,
      "metadata": {
        "id": "W9hae_7KVN9f"
      },
      "outputs": [],
      "source": [
        "train_tensor = TensorDataset(X_train_t, y_train_t)\n",
        "\n"
      ]
    },
    {
      "cell_type": "code",
      "execution_count": 264,
      "metadata": {
        "id": "aYFRR4pmVQUv"
      },
      "outputs": [],
      "source": [
        "X_val_t =  torch.from_numpy(X_val).float()\n",
        "y_val_t =  torch.from_numpy(y_val.values)\n",
        "val_tensor = TensorDataset(X_val_t, y_val_t)\n",
        "\n",
        "X_test_t = torch.from_numpy(test).float()\n"
      ]
    },
    {
      "cell_type": "code",
      "execution_count": 265,
      "metadata": {
        "id": "GLGo0PU5VSFh"
      },
      "outputs": [],
      "source": [
        "batch_size = 16"
      ]
    },
    {
      "cell_type": "code",
      "execution_count": 266,
      "metadata": {
        "id": "-nu_hQm2VTmi"
      },
      "outputs": [],
      "source": [
        "# Load image into data generator\n",
        "train_loader = DataLoader(train_tensor, batch_size=batch_size, num_workers=2, shuffle=True)\n",
        "val_loader = DataLoader(val_tensor, batch_size=batch_size, num_workers=2, shuffle=True)\n",
        "test_loader = DataLoader(X_test_t, batch_size=batch_size, num_workers=2, shuffle=False)\n",
        "\n",
        "loaders = {\"train\": train_loader, \"valid\": val_loader}"
      ]
    },
    {
      "cell_type": "code",
      "execution_count": 267,
      "metadata": {
        "colab": {
          "base_uri": "https://localhost:8080/"
        },
        "id": "AW-zx7EwVWvo",
        "outputId": "12cb6d3a-f7c7-462d-c0b4-9b468675ca3a"
      },
      "outputs": [
        {
          "output_type": "stream",
          "name": "stdout",
          "text": [
            "Using cpu device\n"
          ]
        }
      ],
      "source": [
        "#Let’s check to see if torch.cuda or torch.backends.mps are available, otherwise we use the CPU.\n",
        "device = (\n",
        "    \"cuda\"\n",
        "    if torch.cuda.is_available()\n",
        "    else \"mps\"\n",
        "    if torch.backends.mps.is_available()\n",
        "    else \"cpu\"\n",
        ")\n",
        "print(f\"Using {device} device\")"
      ]
    },
    {
      "cell_type": "code",
      "execution_count": 268,
      "metadata": {
        "id": "-gZGoAtSVZFe"
      },
      "outputs": [],
      "source": [
        "class NeuralNetwork(nn.Module):\n",
        "    def __init__(self):\n",
        "        super().__init__()\n",
        "        self.flatten = nn.Flatten()\n",
        "        self.linear_relu_stack = nn.Sequential(\n",
        "            nn.Linear(28*28*3, 512),\n",
        "            nn.ReLU(),\n",
        "            nn.Linear(512, 512),\n",
        "            nn.ReLU(),\n",
        "            nn.Linear(512, 10)\n",
        "            )\n",
        "\n",
        "    def forward(self, x):\n",
        "        x = self.flatten(x)\n",
        "        output = self.linear_relu_stack(x)\n",
        "        return output\n"
      ]
    },
    {
      "cell_type": "code",
      "source": [],
      "metadata": {
        "id": "lUhTBk_mrfVo"
      },
      "execution_count": null,
      "outputs": []
    },
    {
      "cell_type": "code",
      "execution_count": 269,
      "metadata": {
        "colab": {
          "base_uri": "https://localhost:8080/"
        },
        "id": "G97TjFk3VsO9",
        "outputId": "2a1c04e0-2f20-4760-bddf-4a9be4a3d4ab"
      },
      "outputs": [
        {
          "output_type": "stream",
          "name": "stdout",
          "text": [
            "NeuralNetwork(\n",
            "  (flatten): Flatten(start_dim=1, end_dim=-1)\n",
            "  (linear_relu_stack): Sequential(\n",
            "    (0): Linear(in_features=2352, out_features=512, bias=True)\n",
            "    (1): ReLU()\n",
            "    (2): Linear(in_features=512, out_features=512, bias=True)\n",
            "    (3): ReLU()\n",
            "    (4): Linear(in_features=512, out_features=10, bias=True)\n",
            "  )\n",
            ")\n"
          ]
        }
      ],
      "source": [
        "model = NeuralNetwork().to(device)\n",
        "print(model)"
      ]
    },
    {
      "cell_type": "code",
      "execution_count": 270,
      "metadata": {
        "id": "umYziYwEVtvh"
      },
      "outputs": [],
      "source": [
        "learning_rate = 1e-3\n",
        "batch_size = 64\n",
        "epochs = 5"
      ]
    },
    {
      "cell_type": "code",
      "execution_count": 271,
      "metadata": {
        "id": "j6lucluHVve-"
      },
      "outputs": [],
      "source": [
        "loss_fn = nn.CrossEntropyLoss()\n",
        "optimizer = torch.optim.SGD(model.parameters(), lr=learning_rate)"
      ]
    },
    {
      "cell_type": "code",
      "execution_count": 272,
      "metadata": {
        "id": "y82sITNIVxGg"
      },
      "outputs": [],
      "source": [
        "def train_loop(data_loader, model, loss_fn, optimizer):\n",
        "    size = len(data_loader.dataset)\n",
        "\n",
        "    # set the model to training mode\n",
        "    model.train()\n",
        "\n",
        "    for batch, (X, y) in enumerate(data_loader):\n",
        "        # compute prediction and loss\n",
        "        pred = model(X)\n",
        "        loss = loss_fn(pred, y)\n",
        "\n",
        "        # backpropagation\n",
        "        loss.backward()\n",
        "        optimizer.step()\n",
        "        optimizer.zero_grad()\n",
        "\n",
        "        if batch% 100 == 0:\n",
        "            loss, current  = loss, (batch + 1)*len(X)\n",
        "            print(f\"loss: {loss:>7f}  [{current:>5d}/{size:>5d}]\")"
      ]
    },
    {
      "cell_type": "code",
      "execution_count": 273,
      "metadata": {
        "id": "9XKn2jBnV1aZ"
      },
      "outputs": [],
      "source": [
        "def test_loop(data_loader, model, loss_fn):\n",
        "    # set the model to evaluation mode\n",
        "    model.eval()\n",
        "\n",
        "    size = len(data_loader.dataset)\n",
        "    num_batches = len(data_loader)\n",
        "    test_loss, correct = 0, 0\n",
        "\n",
        "    with torch.no_grad():\n",
        "        for X, y in data_loader:\n",
        "            pred = model(X)\n",
        "            test_loss += loss_fn(pred, y)\n",
        "            correct += (pred.argmax(1) == y).type(torch.float).sum().item()\n",
        "    test_loss /= num_batches\n",
        "    correct /= size\n",
        "    print(f\"Test Error: \\n Accuracy: {(100*correct):>0.1f}%, Avg loss: {test_loss:>8f} \\n\")"
      ]
    },
    {
      "cell_type": "code",
      "execution_count": 274,
      "metadata": {
        "colab": {
          "base_uri": "https://localhost:8080/"
        },
        "id": "2vrNxbnpV26D",
        "outputId": "08c3401b-2bf0-4bae-db93-3eb8baa22607"
      },
      "outputs": [
        {
          "output_type": "stream",
          "name": "stdout",
          "text": [
            "Epoch 1\n",
            "-------------------------------\n",
            "loss: 2.300272  [   16/33600]\n",
            "loss: 2.292900  [ 1616/33600]\n",
            "loss: 2.277960  [ 3216/33600]\n",
            "loss: 2.296617  [ 4816/33600]\n",
            "loss: 2.268888  [ 6416/33600]\n",
            "loss: 2.237987  [ 8016/33600]\n",
            "loss: 2.270669  [ 9616/33600]\n",
            "loss: 2.219647  [11216/33600]\n",
            "loss: 2.213568  [12816/33600]\n",
            "loss: 2.226824  [14416/33600]\n",
            "loss: 2.222985  [16016/33600]\n",
            "loss: 2.185598  [17616/33600]\n",
            "loss: 2.130462  [19216/33600]\n",
            "loss: 2.165020  [20816/33600]\n",
            "loss: 2.102722  [22416/33600]\n",
            "loss: 2.128736  [24016/33600]\n",
            "loss: 2.080613  [25616/33600]\n",
            "loss: 2.078081  [27216/33600]\n",
            "loss: 2.021899  [28816/33600]\n",
            "loss: 2.042278  [30416/33600]\n",
            "loss: 1.940068  [32016/33600]\n",
            "Test Error: \n",
            " Accuracy: 70.8%, Avg loss: 1.931697 \n",
            "\n",
            "Epoch 2\n",
            "-------------------------------\n",
            "loss: 1.966576  [   16/33600]\n",
            "loss: 1.848012  [ 1616/33600]\n",
            "loss: 1.683769  [ 3216/33600]\n",
            "loss: 1.750718  [ 4816/33600]\n",
            "loss: 1.679037  [ 6416/33600]\n",
            "loss: 1.566143  [ 8016/33600]\n",
            "loss: 1.772833  [ 9616/33600]\n",
            "loss: 1.491268  [11216/33600]\n",
            "loss: 1.528957  [12816/33600]\n",
            "loss: 1.440872  [14416/33600]\n",
            "loss: 1.461488  [16016/33600]\n",
            "loss: 1.432478  [17616/33600]\n",
            "loss: 1.297990  [19216/33600]\n",
            "loss: 1.331822  [20816/33600]\n",
            "loss: 1.412414  [22416/33600]\n",
            "loss: 1.221366  [24016/33600]\n",
            "loss: 1.299171  [25616/33600]\n",
            "loss: 1.100991  [27216/33600]\n",
            "loss: 1.050802  [28816/33600]\n",
            "loss: 1.056349  [30416/33600]\n",
            "loss: 0.955297  [32016/33600]\n",
            "Test Error: \n",
            " Accuracy: 80.0%, Avg loss: 0.961452 \n",
            "\n",
            "Epoch 3\n",
            "-------------------------------\n",
            "loss: 0.855782  [   16/33600]\n",
            "loss: 0.739729  [ 1616/33600]\n",
            "loss: 0.668045  [ 3216/33600]\n",
            "loss: 1.107255  [ 4816/33600]\n",
            "loss: 1.039690  [ 6416/33600]\n",
            "loss: 0.979155  [ 8016/33600]\n",
            "loss: 0.793782  [ 9616/33600]\n",
            "loss: 0.944287  [11216/33600]\n",
            "loss: 0.898609  [12816/33600]\n",
            "loss: 0.640148  [14416/33600]\n",
            "loss: 0.793549  [16016/33600]\n",
            "loss: 1.271448  [17616/33600]\n",
            "loss: 0.707139  [19216/33600]\n",
            "loss: 1.013037  [20816/33600]\n",
            "loss: 0.849520  [22416/33600]\n",
            "loss: 0.676891  [24016/33600]\n",
            "loss: 0.338088  [25616/33600]\n",
            "loss: 0.690856  [27216/33600]\n",
            "loss: 0.783724  [28816/33600]\n",
            "loss: 0.610220  [30416/33600]\n",
            "loss: 0.655144  [32016/33600]\n",
            "Test Error: \n",
            " Accuracy: 84.9%, Avg loss: 0.610072 \n",
            "\n",
            "Epoch 4\n",
            "-------------------------------\n",
            "loss: 0.681673  [   16/33600]\n",
            "loss: 0.578232  [ 1616/33600]\n",
            "loss: 0.435430  [ 3216/33600]\n",
            "loss: 0.351318  [ 4816/33600]\n",
            "loss: 0.556694  [ 6416/33600]\n",
            "loss: 0.350270  [ 8016/33600]\n",
            "loss: 0.605195  [ 9616/33600]\n",
            "loss: 0.552728  [11216/33600]\n",
            "loss: 0.770472  [12816/33600]\n",
            "loss: 0.259111  [14416/33600]\n",
            "loss: 0.898288  [16016/33600]\n",
            "loss: 0.301295  [17616/33600]\n",
            "loss: 0.683757  [19216/33600]\n",
            "loss: 0.706481  [20816/33600]\n",
            "loss: 1.061862  [22416/33600]\n",
            "loss: 0.499811  [24016/33600]\n",
            "loss: 0.292455  [25616/33600]\n",
            "loss: 0.295748  [27216/33600]\n",
            "loss: 0.602611  [28816/33600]\n",
            "loss: 0.619837  [30416/33600]\n",
            "loss: 0.707320  [32016/33600]\n",
            "Test Error: \n",
            " Accuracy: 87.1%, Avg loss: 0.485380 \n",
            "\n",
            "Epoch 5\n",
            "-------------------------------\n",
            "loss: 0.466083  [   16/33600]\n",
            "loss: 0.634870  [ 1616/33600]\n",
            "loss: 0.282628  [ 3216/33600]\n",
            "loss: 0.477856  [ 4816/33600]\n",
            "loss: 1.064692  [ 6416/33600]\n",
            "loss: 0.661696  [ 8016/33600]\n",
            "loss: 0.814071  [ 9616/33600]\n",
            "loss: 0.302008  [11216/33600]\n",
            "loss: 0.248621  [12816/33600]\n",
            "loss: 0.445931  [14416/33600]\n",
            "loss: 0.514542  [16016/33600]\n",
            "loss: 0.174986  [17616/33600]\n",
            "loss: 0.301788  [19216/33600]\n",
            "loss: 0.351636  [20816/33600]\n",
            "loss: 0.194361  [22416/33600]\n",
            "loss: 0.443188  [24016/33600]\n",
            "loss: 0.336445  [25616/33600]\n",
            "loss: 0.447544  [27216/33600]\n",
            "loss: 0.308333  [28816/33600]\n",
            "loss: 0.628475  [30416/33600]\n",
            "loss: 0.481608  [32016/33600]\n",
            "Test Error: \n",
            " Accuracy: 88.5%, Avg loss: 0.425419 \n",
            "\n",
            "Epoch 6\n",
            "-------------------------------\n",
            "loss: 0.328680  [   16/33600]\n",
            "loss: 0.590694  [ 1616/33600]\n",
            "loss: 0.650113  [ 3216/33600]\n",
            "loss: 0.307552  [ 4816/33600]\n",
            "loss: 0.715204  [ 6416/33600]\n",
            "loss: 0.537547  [ 8016/33600]\n",
            "loss: 0.395490  [ 9616/33600]\n",
            "loss: 0.230212  [11216/33600]\n",
            "loss: 0.130967  [12816/33600]\n",
            "loss: 0.439664  [14416/33600]\n",
            "loss: 0.317231  [16016/33600]\n",
            "loss: 0.349183  [17616/33600]\n",
            "loss: 0.289181  [19216/33600]\n",
            "loss: 0.495458  [20816/33600]\n",
            "loss: 0.167123  [22416/33600]\n",
            "loss: 0.258330  [24016/33600]\n",
            "loss: 0.433258  [25616/33600]\n",
            "loss: 0.420148  [27216/33600]\n",
            "loss: 0.429427  [28816/33600]\n",
            "loss: 0.375941  [30416/33600]\n",
            "loss: 0.244465  [32016/33600]\n",
            "Test Error: \n",
            " Accuracy: 89.0%, Avg loss: 0.389805 \n",
            "\n",
            "Epoch 7\n",
            "-------------------------------\n",
            "loss: 0.471398  [   16/33600]\n",
            "loss: 0.255591  [ 1616/33600]\n",
            "loss: 0.324533  [ 3216/33600]\n",
            "loss: 0.504998  [ 4816/33600]\n",
            "loss: 0.190316  [ 6416/33600]\n",
            "loss: 0.439480  [ 8016/33600]\n",
            "loss: 0.561937  [ 9616/33600]\n",
            "loss: 0.119115  [11216/33600]\n",
            "loss: 0.259886  [12816/33600]\n",
            "loss: 0.476831  [14416/33600]\n",
            "loss: 0.843704  [16016/33600]\n",
            "loss: 0.195826  [17616/33600]\n",
            "loss: 0.493398  [19216/33600]\n",
            "loss: 0.213520  [20816/33600]\n",
            "loss: 0.528605  [22416/33600]\n",
            "loss: 0.237372  [24016/33600]\n",
            "loss: 0.187457  [25616/33600]\n",
            "loss: 0.687228  [27216/33600]\n",
            "loss: 0.096128  [28816/33600]\n",
            "loss: 0.470477  [30416/33600]\n",
            "loss: 0.351492  [32016/33600]\n",
            "Test Error: \n",
            " Accuracy: 89.6%, Avg loss: 0.366149 \n",
            "\n",
            "Epoch 8\n",
            "-------------------------------\n",
            "loss: 0.619568  [   16/33600]\n",
            "loss: 0.815833  [ 1616/33600]\n",
            "loss: 0.372561  [ 3216/33600]\n",
            "loss: 0.258383  [ 4816/33600]\n",
            "loss: 0.658126  [ 6416/33600]\n",
            "loss: 0.300463  [ 8016/33600]\n",
            "loss: 0.319001  [ 9616/33600]\n",
            "loss: 0.096432  [11216/33600]\n",
            "loss: 0.761388  [12816/33600]\n",
            "loss: 0.600334  [14416/33600]\n",
            "loss: 0.259405  [16016/33600]\n",
            "loss: 0.469704  [17616/33600]\n",
            "loss: 0.164515  [19216/33600]\n",
            "loss: 0.226074  [20816/33600]\n",
            "loss: 0.466095  [22416/33600]\n",
            "loss: 0.495661  [24016/33600]\n",
            "loss: 0.392988  [25616/33600]\n",
            "loss: 0.255159  [27216/33600]\n",
            "loss: 0.537640  [28816/33600]\n",
            "loss: 0.193322  [30416/33600]\n",
            "loss: 0.244708  [32016/33600]\n",
            "Test Error: \n",
            " Accuracy: 90.0%, Avg loss: 0.348972 \n",
            "\n",
            "Epoch 9\n",
            "-------------------------------\n",
            "loss: 0.155437  [   16/33600]\n",
            "loss: 0.374589  [ 1616/33600]\n",
            "loss: 0.306994  [ 3216/33600]\n",
            "loss: 0.105455  [ 4816/33600]\n",
            "loss: 0.121968  [ 6416/33600]\n",
            "loss: 0.184285  [ 8016/33600]\n",
            "loss: 0.312819  [ 9616/33600]\n",
            "loss: 0.195849  [11216/33600]\n",
            "loss: 0.103326  [12816/33600]\n",
            "loss: 0.150009  [14416/33600]\n",
            "loss: 0.917499  [16016/33600]\n",
            "loss: 0.321492  [17616/33600]\n",
            "loss: 0.208871  [19216/33600]\n",
            "loss: 0.764227  [20816/33600]\n",
            "loss: 0.555125  [22416/33600]\n",
            "loss: 0.412269  [24016/33600]\n",
            "loss: 0.655828  [25616/33600]\n",
            "loss: 0.153438  [27216/33600]\n",
            "loss: 0.292881  [28816/33600]\n",
            "loss: 0.270089  [30416/33600]\n",
            "loss: 0.353080  [32016/33600]\n",
            "Test Error: \n",
            " Accuracy: 90.2%, Avg loss: 0.334936 \n",
            "\n",
            "Epoch 10\n",
            "-------------------------------\n",
            "loss: 0.559786  [   16/33600]\n",
            "loss: 0.417400  [ 1616/33600]\n",
            "loss: 0.507136  [ 3216/33600]\n",
            "loss: 0.341114  [ 4816/33600]\n",
            "loss: 0.418180  [ 6416/33600]\n",
            "loss: 0.122749  [ 8016/33600]\n",
            "loss: 0.595493  [ 9616/33600]\n",
            "loss: 0.301817  [11216/33600]\n",
            "loss: 0.486600  [12816/33600]\n",
            "loss: 0.167739  [14416/33600]\n",
            "loss: 0.469127  [16016/33600]\n",
            "loss: 0.330270  [17616/33600]\n",
            "loss: 0.467162  [19216/33600]\n",
            "loss: 0.378741  [20816/33600]\n",
            "loss: 0.193262  [22416/33600]\n",
            "loss: 0.453414  [24016/33600]\n",
            "loss: 0.139023  [25616/33600]\n",
            "loss: 0.147446  [27216/33600]\n",
            "loss: 0.573582  [28816/33600]\n",
            "loss: 0.218524  [30416/33600]\n",
            "loss: 0.254262  [32016/33600]\n",
            "Test Error: \n",
            " Accuracy: 90.5%, Avg loss: 0.323714 \n",
            "\n",
            "Done!\n"
          ]
        }
      ],
      "source": [
        "epochs = 10\n",
        "for t in range(epochs):\n",
        "    print(f\"Epoch {t+1}\\n-------------------------------\")\n",
        "    train_loop(train_loader, model, loss_fn, optimizer)\n",
        "    test_loop(val_loader, model, loss_fn)\n",
        "print(\"Done!\")"
      ]
    },
    {
      "cell_type": "code",
      "execution_count": 275,
      "metadata": {
        "colab": {
          "base_uri": "https://localhost:8080/"
        },
        "id": "x0_WJZWDV8Lg",
        "outputId": "c85ce37c-262c-44ec-d7be-de3619562f04"
      },
      "outputs": [
        {
          "output_type": "stream",
          "name": "stdout",
          "text": [
            "Predicted class: tensor([2, 0, 9,  ..., 3, 9, 2])\n"
          ]
        }
      ],
      "source": [
        "# Prediction\n",
        "logits = model(X_test_t)\n",
        "pred_probab = nn.Softmax(dim=1)(logits)\n",
        "y_pred = pred_probab.argmax(1)\n",
        "print(f\"Predicted class: {y_pred}\")"
      ]
    },
    {
      "cell_type": "code",
      "execution_count": 276,
      "metadata": {
        "colab": {
          "base_uri": "https://localhost:8080/",
          "height": 484
        },
        "id": "Mok3AzWgWOQs",
        "outputId": "90d5aab4-0287-4bfd-81b6-470806274828"
      },
      "outputs": [
        {
          "output_type": "stream",
          "name": "stdout",
          "text": [
            "\n",
            "Test image prediction\n",
            "Prediction: 7\n"
          ]
        },
        {
          "output_type": "display_data",
          "data": {
            "text/plain": [
              "<Figure size 640x480 with 1 Axes>"
            ],
            "image/png": "[encoded data removed]"
          },
          "metadata": {}
        }
      ],
      "source": [
        "print(f\"\\nTest image prediction\")\n",
        "print(f\"Prediction: {y_pred[5]}\")\n",
        "test_img_plot = plt.imshow(X_test_t[5])\n",
        "plt.show()"
      ]
    },
    {
      "cell_type": "code",
      "execution_count": 277,
      "metadata": {
        "id": "76Gm8XUEWPyD"
      },
      "outputs": [],
      "source": [
        "results = pd.Series(y_pred,name=\"Label\")\n",
        "\n",
        "submission = pd.concat([pd.Series(range(1,28001),name = \"ImageId\"),results],axis = 1)\n",
        "\n",
        "submission.to_csv(\"mnist_prediction.csv\",index=False)\n"
      ]
    },
    {
      "cell_type": "code",
      "execution_count": 277,
      "metadata": {
        "id": "akHZg2uIWRB5"
      },
      "outputs": [],
      "source": []
    }
  ],
  "metadata": {
    "colab": {
      "provenance": [],
      "authorship_tag": "ABX9TyOuZyY3FWcwmj4YeAhhgGxt",
      "include_colab_link": true
    },
    "kernelspec": {
      "display_name": "Python 3",
      "name": "python3"
    },
    "language_info": {
      "name": "python"
    }
  },
  "nbformat": 4,
  "nbformat_minor": 0
}